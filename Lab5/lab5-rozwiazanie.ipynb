{
 "cells": [
  {
   "cell_type": "markdown",
   "metadata": {},
   "source": [
    "# Labolatorium 5\n",
    "\n",
    "Celem zadania jest opracowanie modelu klasyfikacji obrazów opartego na CNN, z uwzględnieniem\n",
    "zoptymalizowanych parametrów augmentacji danych, wykorzystując zbiór danych CIFAR-10.\n",
    "Kroki do wykonania:"
   ]
  },
  {
   "cell_type": "markdown",
   "metadata": {},
   "source": [
    "1. Zaimportuj dane CIFAR-10. Podziel dane na X_train, y_train, X_test i y_test.\n",
    "Protip: Użyj “from keras.datasets import cifar10”, a następnie"
   ]
  },
  {
   "cell_type": "code",
   "execution_count": null,
   "metadata": {},
   "outputs": [],
   "source": [
    "import numpy as np\n",
    "import os\n",
    "import pickle\n",
    "from keras.datasets import cifar10\n",
    "from keras.utils import to_categorical\n",
    "from keras.models import Sequential\n",
    "from keras.layers import Conv2D, MaxPooling2D, Flatten, Dense, Dropout\n",
    "from tensorflow.keras.preprocessing.image import ImageDataGenerator\n",
    "from sklearn.model_selection import KFold\n",
    "from tensorflow.keras.optimizers import Adam\n",
    "\n",
    "# Nie działały mi certifykaty SSL, więc pobrałem pliki\n",
    "\n",
    "def load_batch(file_path):\n",
    "    with open(file_path, 'rb') as file:\n",
    "        data_dict = pickle.load(file, encoding='bytes')\n",
    "        images = data_dict[b'data']\n",
    "        labels = data_dict[b'labels']\n",
    "        # Przekształcenie obrazów na odpowiedni kształt\n",
    "        images = images.reshape(len(images), 3, 32, 32).transpose(0, 2, 3, 1)\n",
    "        return images, np.array(labels)\n",
    "\n",
    "def load_cifar10(data_dir):\n",
    "    X_train, y_train = [], []\n",
    "    for i in range(1, 6):\n",
    "        file_path = os.path.join(data_dir, f\"data_batch_{i}\")\n",
    "        images, labels = load_batch(file_path)\n",
    "        X_train.append(images)\n",
    "        y_train.append(labels)\n",
    "\n",
    "    X_train = np.concatenate(X_train)\n",
    "    y_train = np.concatenate(y_train)\n",
    "\n",
    "    test_file = os.path.join(data_dir, \"test_batch\")\n",
    "    X_test, y_test = load_batch(test_file)\n",
    "\n",
    "    return (X_train, y_train), (X_test, y_test)\n",
    "\n",
    "(X_train, y_train), (X_test, y_test) = load_cifar10('cifar-10-batches-py')\n"
   ]
  },
  {
   "cell_type": "markdown",
   "metadata": {},
   "source": [
    "2. Ogranicz dane wejściowe w celu szybszej optymalizacji – na przykład do 3 lub 4\n",
    "klas oraz 2 tys. zdjęć."
   ]
  },
  {
   "cell_type": "code",
   "execution_count": null,
   "metadata": {},
   "outputs": [],
   "source": [
    "selected_classes = [0, 1, 2, 3]\n",
    "mask_train = np.isin(y_train, selected_classes)\n",
    "mask_test = np.isin(y_test, selected_classes)\n",
    "\n",
    "X_train, y_train = X_train[mask_train.squeeze()], y_train[mask_train.squeeze()]\n",
    "X_test, y_test = X_test[mask_test.squeeze()], y_test[mask_test.squeeze()]\n",
    "\n",
    "y_train = np.array([selected_classes.index(y) for y in y_train]).reshape(-1, 1)\n",
    "y_test = np.array([selected_classes.index(y) for y in y_test]).reshape(-1, 1)\n",
    "\n",
    "# Zmniejszenie zbioru treningowego\n",
    "data_limit = 2000\n",
    "X_train, y_train = X_train[:data_limit], y_train[:data_limit]"
   ]
  },
  {
   "cell_type": "markdown",
   "metadata": {},
   "source": [
    "3. Dokonaj normalizacji danych wejściowych oraz etykiety przekształć na reprezentację\n",
    "one-hot.\n",
    "\n",
    "    Protip: Normalizacja to odjęcie średniej i podzielenie przez odchylenie std.\n",
    "    Przekształcenie do one-hot za pomocą “keras.utils.to_categorical()”."
   ]
  },
  {
   "cell_type": "code",
   "execution_count": 19,
   "metadata": {},
   "outputs": [],
   "source": [
    "X_train = (X_train - X_train.mean()) / X_train.std()\n",
    "X_test = (X_test - X_test.mean()) / X_test.std()\n",
    "\n",
    "y_train = to_categorical(y_train, num_classes=len(selected_classes))\n",
    "y_test = to_categorical(y_test, num_classes=len(selected_classes))"
   ]
  },
  {
   "cell_type": "markdown",
   "metadata": {},
   "source": [
    "4. Zdefiniuj sieć CNN odpowiednią dla danych CIFAR."
   ]
  },
  {
   "cell_type": "code",
   "execution_count": 20,
   "metadata": {},
   "outputs": [],
   "source": [
    "def build_cnn():\n",
    "    model = Sequential([\n",
    "        Conv2D(32, (3, 3), activation='relu', input_shape=X_train.shape[1:]),\n",
    "        MaxPooling2D((2, 2)),\n",
    "        Conv2D(64, (3, 3), activation='relu'),\n",
    "        MaxPooling2D((2, 2)),\n",
    "        Flatten(),\n",
    "        Dense(128, activation='relu'),\n",
    "        Dropout(0.5),\n",
    "        Dense(len(selected_classes), activation='softmax')\n",
    "    ])\n",
    "    model.compile(optimizer=Adam(learning_rate=0.001), loss='categorical_crossentropy', metrics=['accuracy'])\n",
    "    return model"
   ]
  },
  {
   "cell_type": "markdown",
   "metadata": {},
   "source": [
    "5. Przetrenuj model.\n",
    "\n",
    "    Protip: Wyodrębnij zbiór walidacyjny ze zbioru treningowego, zdefiniuj\n",
    "    batch_size i ilość epok."
   ]
  },
  {
   "cell_type": "code",
   "execution_count": 21,
   "metadata": {},
   "outputs": [],
   "source": [
    "batch_size = 32\n",
    "epochs = 20"
   ]
  },
  {
   "cell_type": "markdown",
   "metadata": {},
   "source": [
    "6. Zdefiniuj funkcję do augmentacji danych, uwzględniając transformacje\n",
    "geometryczne, takie jak obroty, przesunięcia w pionie i poziomie oraz skalowanie.\n",
    "Dokonaj parametryzacji tych transformacji, określając zakresy dla obrotów,\n",
    "przesunięć i skalowania.\n",
    "\n",
    "    Protip: Użyj “keras.preprocessing.image.ImageDataGenerator()”. Parametry:\n",
    "rotation_range, width_shift_range, height_shift_range, zoom_range."
   ]
  },
  {
   "cell_type": "code",
   "execution_count": 22,
   "metadata": {},
   "outputs": [],
   "source": [
    "def create_data_generator(rotation_range, width_shift_range, height_shift_range, zoom_range):\n",
    "    return ImageDataGenerator(\n",
    "        rotation_range=rotation_range,\n",
    "        width_shift_range=width_shift_range,\n",
    "        height_shift_range=height_shift_range,\n",
    "        zoom_range=zoom_range\n",
    "    )"
   ]
  },
  {
   "cell_type": "markdown",
   "metadata": {},
   "source": [
    "7. Potraktuj zakresy transformacji geometrycznych jako hiperparametry modelu i\n",
    "przeprowadź ich dobór (np. przy użyciu podejścia Random Search). Jako kryterium\n",
    "optymalizacji wykorzystaj dokładność uzyskaną w wyniku kroswalidacji k-fold.\n",
    "Protip: Wykorzystaj “sklearn.model_selection.KFold”."
   ]
  },
  {
   "cell_type": "code",
   "execution_count": 23,
   "metadata": {},
   "outputs": [
    {
     "name": "stderr",
     "output_type": "stream",
     "text": [
      "/Users/krzysztofbabicki/Documents/Edukacja/WSEI/WSEI - Semestr I/Zaawansowane metody sztucznej inteligencji/Laby/.venv/lib/python3.12/site-packages/keras/src/layers/convolutional/base_conv.py:107: UserWarning: Do not pass an `input_shape`/`input_dim` argument to a layer. When using Sequential models, prefer using an `Input(shape)` object as the first layer in the model instead.\n",
      "  super().__init__(activity_regularizer=activity_regularizer, **kwargs)\n",
      "/Users/krzysztofbabicki/Documents/Edukacja/WSEI/WSEI - Semestr I/Zaawansowane metody sztucznej inteligencji/Laby/.venv/lib/python3.12/site-packages/keras/src/trainers/data_adapters/py_dataset_adapter.py:121: UserWarning: Your `PyDataset` class should call `super().__init__(**kwargs)` in its constructor. `**kwargs` can include `workers`, `use_multiprocessing`, `max_queue_size`. Do not pass these arguments to `fit()`, as they will be ignored.\n",
      "  self._warn_if_super_not_called()\n"
     ]
    }
   ],
   "source": [
    "rotation_range_values = [10, 20, 30]\n",
    "width_shift_values = [0.1, 0.2, 0.3]\n",
    "height_shift_values = [0.1, 0.2, 0.3]\n",
    "zoom_range_values = [0.1, 0.2, 0.3]\n",
    "\n",
    "best_accuracy = 0\n",
    "best_params = {}\n",
    "\n",
    "kf = KFold(n_splits=3, shuffle=True, random_state=42)\n",
    "\n",
    "for rotation_range in rotation_range_values:\n",
    "    for width_shift_range in width_shift_values:\n",
    "        for height_shift_range in height_shift_values:\n",
    "            for zoom_range in zoom_range_values:\n",
    "                val_accuracies = []\n",
    "                data_gen = create_data_generator(rotation_range, width_shift_range, height_shift_range, zoom_range)\n",
    "\n",
    "                for train_idx, val_idx in kf.split(X_train):\n",
    "                    X_train_fold, X_val_fold = X_train[train_idx], X_train[val_idx]\n",
    "                    y_train_fold, y_val_fold = y_train[train_idx], y_train[val_idx]\n",
    "\n",
    "                    model = build_cnn()\n",
    "                    train_generator = data_gen.flow(X_train_fold, y_train_fold, batch_size=batch_size)\n",
    "                    model.fit(train_generator, epochs=epochs, validation_data=(X_val_fold, y_val_fold), verbose=0)\n",
    "\n",
    "                    val_loss, val_acc = model.evaluate(X_val_fold, y_val_fold, verbose=0)\n",
    "                    val_accuracies.append(val_acc)\n",
    "\n",
    "                mean_accuracy = np.mean(val_accuracies)\n",
    "\n",
    "                if mean_accuracy > best_accuracy:\n",
    "                    best_accuracy = mean_accuracy\n",
    "                    best_params = {\n",
    "                        'rotation_range': rotation_range,\n",
    "                        'width_shift_range': width_shift_range,\n",
    "                        'height_shift_range': height_shift_range,\n",
    "                        'zoom_range': zoom_range\n",
    "                    }"
   ]
  },
  {
   "cell_type": "markdown",
   "metadata": {},
   "source": [
    "8. Po określeniu optymalnych wartości parametrów przeprowadź końcowy trening na\n",
    "pełnym zbiorze treningowym i ewaluacje na zbiorze testowym."
   ]
  },
  {
   "cell_type": "code",
   "execution_count": 30,
   "metadata": {},
   "outputs": [
    {
     "name": "stdout",
     "output_type": "stream",
     "text": [
      "Epoch 1/20\n",
      "\u001b[1m57/57\u001b[0m \u001b[32m━━━━━━━━━━━━━━━━━━━━\u001b[0m\u001b[37m\u001b[0m \u001b[1m1s\u001b[0m 9ms/step - accuracy: 0.3925 - loss: 1.3288 - val_accuracy: 0.6050 - val_loss: 1.0512\n",
      "Epoch 2/20\n",
      "\u001b[1m57/57\u001b[0m \u001b[32m━━━━━━━━━━━━━━━━━━━━\u001b[0m\u001b[37m\u001b[0m \u001b[1m0s\u001b[0m 6ms/step - accuracy: 0.5738 - loss: 1.0522 - val_accuracy: 0.6500 - val_loss: 0.8895\n",
      "Epoch 3/20\n",
      "\u001b[1m57/57\u001b[0m \u001b[32m━━━━━━━━━━━━━━━━━━━━\u001b[0m\u001b[37m\u001b[0m \u001b[1m0s\u001b[0m 8ms/step - accuracy: 0.6412 - loss: 0.9087 - val_accuracy: 0.7100 - val_loss: 0.7688\n",
      "Epoch 4/20\n",
      "\u001b[1m57/57\u001b[0m \u001b[32m━━━━━━━━━━━━━━━━━━━━\u001b[0m\u001b[37m\u001b[0m \u001b[1m0s\u001b[0m 6ms/step - accuracy: 0.6698 - loss: 0.8366 - val_accuracy: 0.7000 - val_loss: 0.7478\n",
      "Epoch 5/20\n",
      "\u001b[1m57/57\u001b[0m \u001b[32m━━━━━━━━━━━━━━━━━━━━\u001b[0m\u001b[37m\u001b[0m \u001b[1m0s\u001b[0m 7ms/step - accuracy: 0.7012 - loss: 0.7665 - val_accuracy: 0.6700 - val_loss: 0.8344\n",
      "Epoch 6/20\n",
      "\u001b[1m57/57\u001b[0m \u001b[32m━━━━━━━━━━━━━━━━━━━━\u001b[0m\u001b[37m\u001b[0m \u001b[1m1s\u001b[0m 10ms/step - accuracy: 0.6828 - loss: 0.7940 - val_accuracy: 0.7350 - val_loss: 0.7313\n",
      "Epoch 7/20\n",
      "\u001b[1m57/57\u001b[0m \u001b[32m━━━━━━━━━━━━━━━━━━━━\u001b[0m\u001b[37m\u001b[0m \u001b[1m0s\u001b[0m 7ms/step - accuracy: 0.7058 - loss: 0.7389 - val_accuracy: 0.7600 - val_loss: 0.6279\n",
      "Epoch 8/20\n",
      "\u001b[1m57/57\u001b[0m \u001b[32m━━━━━━━━━━━━━━━━━━━━\u001b[0m\u001b[37m\u001b[0m \u001b[1m0s\u001b[0m 8ms/step - accuracy: 0.7493 - loss: 0.6805 - val_accuracy: 0.7500 - val_loss: 0.6694\n",
      "Epoch 9/20\n",
      "\u001b[1m57/57\u001b[0m \u001b[32m━━━━━━━━━━━━━━━━━━━━\u001b[0m\u001b[37m\u001b[0m \u001b[1m0s\u001b[0m 6ms/step - accuracy: 0.7452 - loss: 0.6707 - val_accuracy: 0.7800 - val_loss: 0.6059\n",
      "Epoch 10/20\n",
      "\u001b[1m57/57\u001b[0m \u001b[32m━━━━━━━━━━━━━━━━━━━━\u001b[0m\u001b[37m\u001b[0m \u001b[1m0s\u001b[0m 8ms/step - accuracy: 0.7435 - loss: 0.6778 - val_accuracy: 0.7800 - val_loss: 0.5934\n",
      "Epoch 11/20\n",
      "\u001b[1m57/57\u001b[0m \u001b[32m━━━━━━━━━━━━━━━━━━━━\u001b[0m\u001b[37m\u001b[0m \u001b[1m0s\u001b[0m 6ms/step - accuracy: 0.7540 - loss: 0.6247 - val_accuracy: 0.7900 - val_loss: 0.5599\n",
      "Epoch 12/20\n",
      "\u001b[1m57/57\u001b[0m \u001b[32m━━━━━━━━━━━━━━━━━━━━\u001b[0m\u001b[37m\u001b[0m \u001b[1m0s\u001b[0m 7ms/step - accuracy: 0.7653 - loss: 0.6169 - val_accuracy: 0.7150 - val_loss: 0.7066\n",
      "Epoch 13/20\n",
      "\u001b[1m57/57\u001b[0m \u001b[32m━━━━━━━━━━━━━━━━━━━━\u001b[0m\u001b[37m\u001b[0m \u001b[1m0s\u001b[0m 7ms/step - accuracy: 0.7627 - loss: 0.6085 - val_accuracy: 0.7600 - val_loss: 0.6456\n",
      "Epoch 14/20\n",
      "\u001b[1m57/57\u001b[0m \u001b[32m━━━━━━━━━━━━━━━━━━━━\u001b[0m\u001b[37m\u001b[0m \u001b[1m1s\u001b[0m 9ms/step - accuracy: 0.7544 - loss: 0.6322 - val_accuracy: 0.7600 - val_loss: 0.5804\n",
      "Epoch 15/20\n",
      "\u001b[1m57/57\u001b[0m \u001b[32m━━━━━━━━━━━━━━━━━━━━\u001b[0m\u001b[37m\u001b[0m \u001b[1m0s\u001b[0m 8ms/step - accuracy: 0.7931 - loss: 0.5624 - val_accuracy: 0.7800 - val_loss: 0.5504\n",
      "Epoch 16/20\n",
      "\u001b[1m57/57\u001b[0m \u001b[32m━━━━━━━━━━━━━━━━━━━━\u001b[0m\u001b[37m\u001b[0m \u001b[1m0s\u001b[0m 8ms/step - accuracy: 0.8159 - loss: 0.5370 - val_accuracy: 0.7800 - val_loss: 0.5600\n",
      "Epoch 17/20\n",
      "\u001b[1m57/57\u001b[0m \u001b[32m━━━━━━━━━━━━━━━━━━━━\u001b[0m\u001b[37m\u001b[0m \u001b[1m0s\u001b[0m 8ms/step - accuracy: 0.7810 - loss: 0.5380 - val_accuracy: 0.8200 - val_loss: 0.5391\n",
      "Epoch 18/20\n",
      "\u001b[1m57/57\u001b[0m \u001b[32m━━━━━━━━━━━━━━━━━━━━\u001b[0m\u001b[37m\u001b[0m \u001b[1m1s\u001b[0m 9ms/step - accuracy: 0.8110 - loss: 0.4873 - val_accuracy: 0.7850 - val_loss: 0.5858\n",
      "Epoch 19/20\n",
      "\u001b[1m57/57\u001b[0m \u001b[32m━━━━━━━━━━━━━━━━━━━━\u001b[0m\u001b[37m\u001b[0m \u001b[1m1s\u001b[0m 10ms/step - accuracy: 0.7672 - loss: 0.5588 - val_accuracy: 0.7550 - val_loss: 0.5980\n",
      "Epoch 20/20\n",
      "\u001b[1m57/57\u001b[0m \u001b[32m━━━━━━━━━━━━━━━━━━━━\u001b[0m\u001b[37m\u001b[0m \u001b[1m0s\u001b[0m 7ms/step - accuracy: 0.8144 - loss: 0.4818 - val_accuracy: 0.8250 - val_loss: 0.5294\n",
      "\u001b[1m125/125\u001b[0m \u001b[32m━━━━━━━━━━━━━━━━━━━━\u001b[0m\u001b[37m\u001b[0m \u001b[1m0s\u001b[0m 2ms/step - accuracy: 0.7489 - loss: 0.6483\n"
     ]
    }
   ],
   "source": [
    "from sklearn.model_selection import train_test_split\n",
    "\n",
    "final_data_gen = create_data_generator(**best_params)\n",
    "final_model = build_cnn()\n",
    "\n",
    "X_train_final, X_val_final, y_train_final, y_val_final = train_test_split(X_train, y_train, test_size=0.1, random_state=42)\n",
    "\n",
    "train_generator = final_data_gen.flow(X_train_final, y_train_final, batch_size=batch_size)\n",
    "val_generator = final_data_gen.flow(X_val_final, y_val_final, batch_size=batch_size)\n",
    "\n",
    "final_model.fit(train_generator, epochs=epochs, validation_data=val_generator, verbose=1)\n",
    "\n",
    "test_loss, test_acc = final_model.evaluate(X_test, y_test, verbose=1)"
   ]
  },
  {
   "cell_type": "code",
   "execution_count": 29,
   "metadata": {},
   "outputs": [
    {
     "name": "stdout",
     "output_type": "stream",
     "text": [
      "Best Hyperparameters: {'rotation_range': 20, 'width_shift_range': 0.1, 'height_shift_range': 0.1, 'zoom_range': 0.1}\n",
      "Test Accuracy: 0.7789999842643738\n"
     ]
    }
   ],
   "source": [
    "print(\"Best Hyperparameters:\", best_params)\n",
    "print(\"Test Accuracy:\", test_acc)"
   ]
  }
 ],
 "metadata": {
  "kernelspec": {
   "display_name": ".venv",
   "language": "python",
   "name": "python3"
  },
  "language_info": {
   "codemirror_mode": {
    "name": "ipython",
    "version": 3
   },
   "file_extension": ".py",
   "mimetype": "text/x-python",
   "name": "python",
   "nbconvert_exporter": "python",
   "pygments_lexer": "ipython3",
   "version": "3.12.7"
  }
 },
 "nbformat": 4,
 "nbformat_minor": 2
}
